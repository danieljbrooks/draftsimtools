{
 "cells": [
  {
   "cell_type": "markdown",
   "metadata": {},
   "source": [
    "# Interactive draftsimtools\n",
    "daniel.brooks@alumni.caltech.edu <br>\n",
    "December 14, 2018 <br>"
   ]
  },
  {
   "cell_type": "code",
   "execution_count": 1,
   "metadata": {},
   "outputs": [],
   "source": [
    "import draftsimtools as ds"
   ]
  },
  {
   "cell_type": "code",
   "execution_count": 2,
   "metadata": {},
   "outputs": [],
   "source": [
    "#Load data.\n",
    "m19_set = ds.create_set(\"data/m19_rating.tsv\", \"data/m19_land_rating.tsv\")\n",
    "raw_drafts = ds.load_drafts(\"data/m19_1000drafts.csv\")"
   ]
  },
  {
   "cell_type": "code",
   "execution_count": 3,
   "metadata": {},
   "outputs": [],
   "source": [
    "#Fix commas.\n",
    "m19_set, raw_drafts = ds.fix_commas(m19_set, raw_drafts)"
   ]
  },
  {
   "cell_type": "code",
   "execution_count": 4,
   "metadata": {},
   "outputs": [
    {
     "name": "stdout",
     "output_type": "stream",
     "text": [
      "Processing draft number 0.\n"
     ]
    }
   ],
   "source": [
    "#Process the draft data.\n",
    "drafts = ds.process_drafts(raw_drafts)"
   ]
  },
  {
   "cell_type": "code",
   "execution_count": 5,
   "metadata": {},
   "outputs": [],
   "source": [
    "#Create a rating dictionary.\n",
    "rating_dict = ds.create_rating_dict(m19_set)"
   ]
  },
  {
   "cell_type": "code",
   "execution_count": 6,
   "metadata": {},
   "outputs": [],
   "source": [
    "from copy import deepcopy"
   ]
  },
  {
   "cell_type": "code",
   "execution_count": 7,
   "metadata": {},
   "outputs": [
    {
     "data": {
      "text/plain": [
       "5417981"
      ]
     },
     "execution_count": 7,
     "metadata": {},
     "output_type": "execute_result"
    }
   ],
   "source": [
    "len(raw_drafts)"
   ]
  },
  {
   "cell_type": "code",
   "execution_count": 8,
   "metadata": {},
   "outputs": [
    {
     "data": {
      "text/plain": [
       "\"1200002,M19,Sai_Master_Thopterist,Gearsmith_Guardian,Frilled_Sea_Serpent,Gearsmith_Guardian,Field_Creeper,Snapping_Drake,Gearsmith_Guardian,Totally_Lost,Essence_Scatter,Meandering_River,Uncomfortable_Chill,Ghostform,Tolarian_Scholar,Wall_of_Mist,Plains_2,Militia_Bugler,Mentor_of_the_Meek,Aven_Wind_Mage,Cavalry_Drillmaster,Aerial_Engineer,Scholar_of_Stars,Aven_Wind_Mage,Scholar_of_Stars,Field_Creeper,Surge_Mare,Meandering_River,Ghostform,Anticipate,Revitalize,Mountain_3,Trusty_Packbeast,Skyscanner,Aerial_Engineer,Ghostform,Explosive_Apparatus,Gearsmith_Guardian,Manalith,Inspired_Charge,Wall_of_Mist,Gearsmith_Guardian,Field_Creeper,Highland_Game,Catalyst_Elemental,Naturalize,Mountain_2,Sarkhan's_Unsealing,Ajani's_Pridemate,Vigilant_Baloth,Elvish_Clancaller,Rogue's_Gloves,Havoc_Devils,Fountain_of_Renewal,Centaur_Courser,Viashino_Pyromancer,Reclamation_Sage,Fire_Elemental,Plummet,Catalyst_Elemental,Cinder_Barrens,Timber_Gorge,Electrify,Volcanic_Dragon,Fire_Elemental,Thud,Highland_Game,Bogg\""
      ]
     },
     "execution_count": 8,
     "metadata": {},
     "output_type": "execute_result"
    }
   ],
   "source": [
    "raw_drafts[0:1000]"
   ]
  },
  {
   "cell_type": "code",
   "execution_count": 9,
   "metadata": {},
   "outputs": [],
   "source": [
    "class Player(object):\n",
    "    \"\"\"The player object is used to simulate drafts. It has functions for creating new drafts, \n",
    "    making picks, and tracking it's color commit. \n",
    "    \n",
    "    A draft can be simulated in the following manner:\n",
    "        p = Player()\n",
    "        p.new_draft(drafts[0])\n",
    "        for x in range(45):\n",
    "            p.make_pick()\n",
    "    \"\"\"\n",
    "    \n",
    "    #Some constants from the website.    \n",
    "    COLOR_COMMIT_THRESHOLD=3.5  #Determines how many good cards are needed to commit to a color\n",
    "    \n",
    "    RATING_THRESH=2.0  #Baseline playability rating for color_commit\n",
    "    \n",
    "    MAX_BONUS_SPEC=.9  #The maximum bonus during the speculation phase at the start of a draft\n",
    "    ON_COLOR_BONUS=2.0 #Bonus cards receive after player locks into 2 colors\n",
    "\n",
    "    OFF_COLOR_PENALTY=1.0 #Penalty for off color cards after the player locks into 2 colors\n",
    "    \n",
    "    SECOND_COLOR_FRAC=0.8 #When committed to one color, the second color bonus is this fraction of the on color bonus\n",
    "    \n",
    "    MULTICOLOR_PENALTY=0.6 #P1P1 penalty for multicolored cards \n",
    "\n",
    "    SING_COLOR_BIAS_FACTOR=2.0 #If the player only has cards of 1 color, reduce the bonus by this fraction\n",
    "\n",
    "    \n",
    "    def __init__(self, draft=None):\n",
    "        \"\"\"Create a new Player instance.\n",
    "        \n",
    "        :param draft: (Optional) Attach a draft to the player. \n",
    "        \"\"\"        \n",
    "        if draft is not None:\n",
    "            self.new_draft(draft)\n",
    "    \n",
    "    def new_draft(self, draft, rating_dict):\n",
    "        \"\"\"Update the Player object with a single new draft. New drafts can be created by\n",
    "        draftsimtools.process_drafts. \n",
    "        \n",
    "        Calling new_draft resets all information in the Player object and allows numerous drafts\n",
    "        to be simulated using a single Player object. \n",
    "        \n",
    "        Fields:\n",
    "          self.draft - a single draft object (list of list of cardnames)\n",
    "          self.collection - a list of cardnames currently picked\n",
    "          self.color_commit - the color_commit vector of the current collection\n",
    "          self.num_colors - number of colors bot is commited to\n",
    "          self.rating_dict - current set information\n",
    "          self.ps - number of cards in a pack\n",
    "          \n",
    "        :param draft: Attach a draft to the player. \n",
    "        \"\"\"\n",
    "        self.draft = deepcopy(draft)\n",
    "        self.collection = []\n",
    "        self.color_commit = [0,0,0,0,0]\n",
    "        self.num_colors = 0\n",
    "        self.rating_dict = rating_dict\n",
    "        self.ps = int(len(self.draft)/3)\n",
    "    \n",
    "    def make_pick(self):\n",
    "        \"\"\"Makes a pick and updates the player's collection and color_commit. \n",
    "        \n",
    "        This method picks the first card in each pack. Note that the draft lists are set up \n",
    "        such that the first element of each list is the card that was picked by a human. \n",
    "        \"\"\"\n",
    "        cur_pick = len(self.collection)\n",
    "        if cur_pick < len(self.draft):\n",
    "            self.collection.append(self.draft[cur_pick][0])\n",
    "            self.update_color_commit(self.draft[cur_pick][0])\n",
    "        else:\n",
    "            print(\"All picks made.\")\n",
    "    \n",
    "    def update_color_commit(self, card):\n",
    "        \"\"\"Updates the color_commit of the bot.\n",
    "        \"\"\"\n",
    "        self.update_num_colors()\n",
    "        \n",
    "        #ADD CODE HERE.\n",
    "        self.color_commit[0] += 1\n",
    "    \n",
    "    def update_num_colors(self):\n",
    "        \"\"\"Update number of committed colors for player.\n",
    "        \"\"\"\n",
    "        #Update committed colors from color_commit.\n",
    "        temp_num_colors = 0\n",
    "        for c in self.color_commit:\n",
    "            if c > COLOR_COMMIT_THRESHOLD:\n",
    "                temp_num_colors += 1\n",
    "        \n",
    "        #Update committed colors based on pick number.\n",
    "        if len(self.collection) >= (self.ps+5):\n",
    "            temp_num_colors = 2\n",
    "            \n",
    "        #Final update.\n",
    "        self.num_colors = temp_num_colors"
   ]
  },
  {
   "cell_type": "code",
   "execution_count": 10,
   "metadata": {},
   "outputs": [],
   "source": [
    "p = Player()"
   ]
  },
  {
   "cell_type": "code",
   "execution_count": 11,
   "metadata": {},
   "outputs": [],
   "source": [
    "p.new_draft(drafts[1], rating_dict)"
   ]
  },
  {
   "cell_type": "code",
   "execution_count": null,
   "metadata": {},
   "outputs": [],
   "source": [
    "for x in range(10):\n",
    "    p.make_pick()\n",
    "    print(p.collection, p.color_commit)"
   ]
  },
  {
   "cell_type": "code",
   "execution_count": null,
   "metadata": {},
   "outputs": [],
   "source": [
    "p.new_draft(drafts[2])"
   ]
  },
  {
   "cell_type": "code",
   "execution_count": null,
   "metadata": {},
   "outputs": [],
   "source": [
    "for x in range(10):\n",
    "    p.make_pick()\n",
    "    print(p.collection, p.color_commit)"
   ]
  },
  {
   "cell_type": "code",
   "execution_count": null,
   "metadata": {},
   "outputs": [],
   "source": []
  }
 ],
 "metadata": {
  "kernelspec": {
   "display_name": "Python 3",
   "language": "python",
   "name": "python3"
  },
  "language_info": {
   "codemirror_mode": {
    "name": "ipython",
    "version": 3
   },
   "file_extension": ".py",
   "mimetype": "text/x-python",
   "name": "python",
   "nbconvert_exporter": "python",
   "pygments_lexer": "ipython3",
   "version": "3.6.4"
  }
 },
 "nbformat": 4,
 "nbformat_minor": 2
}
