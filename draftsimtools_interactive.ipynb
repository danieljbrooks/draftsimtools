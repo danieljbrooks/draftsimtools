{
 "cells": [
  {
   "cell_type": "markdown",
   "metadata": {},
   "source": [
    "# Rating optimization with draftsimtools\n",
    "daniel.brooks@alumni.caltech.edu <br>\n",
    "December 17, 2018 <br>"
   ]
  },
  {
   "cell_type": "code",
   "execution_count": 1,
   "metadata": {},
   "outputs": [],
   "source": [
    "import draftsimtools as ds"
   ]
  },
  {
   "cell_type": "code",
   "execution_count": 2,
   "metadata": {},
   "outputs": [],
   "source": [
    "#Load 1000 M19 drafts.\n",
    "m19_set = ds.create_set(\"data/m19_rating.tsv\", \"data/m19_land_rating.tsv\")\n",
    "raw_drafts = ds.load_drafts(\"data/m19_1000drafts.csv\")"
   ]
  },
  {
   "cell_type": "code",
   "execution_count": 3,
   "metadata": {},
   "outputs": [],
   "source": [
    "#Fix commas in card names.\n",
    "m19_set, raw_drafts = ds.fix_commas(m19_set, raw_drafts)"
   ]
  },
  {
   "cell_type": "code",
   "execution_count": 4,
   "metadata": {},
   "outputs": [],
   "source": [
    "#Store rating information in a dictionary.\n",
    "rating_dict = ds.create_rating_dict(m19_set)"
   ]
  },
  {
   "cell_type": "code",
   "execution_count": 5,
   "metadata": {},
   "outputs": [
    {
     "name": "stdout",
     "output_type": "stream",
     "text": [
      "Processing draft: 0.\n"
     ]
    }
   ],
   "source": [
    "#Process the draft data.\n",
    "drafts = ds.process_drafts(raw_drafts)"
   ]
  },
  {
   "cell_type": "code",
   "execution_count": 6,
   "metadata": {},
   "outputs": [],
   "source": [
    "#Create an M19 player. \n",
    "b = ds.SGDBot(rating_dict)"
   ]
  },
  {
   "cell_type": "code",
   "execution_count": 7,
   "metadata": {},
   "outputs": [
    {
     "name": "stdout",
     "output_type": "stream",
     "text": [
      "Starting SGD optimization for draft 0\n",
      "Starting SGD optimization for draft 100\n",
      "Starting SGD optimization for draft 200\n",
      "Done.\n"
     ]
    }
   ],
   "source": [
    "#%%time\n",
    "#Optimize rating parameters using stochastic gradient descent. (1 minute / 1000 drafts)\n",
    "for x in range(10):\n",
    "    b.sgd_optimization(drafts[0:25], 0.05)\n",
    "print(\"Done.\")"
   ]
  },
  {
   "cell_type": "code",
   "execution_count": 8,
   "metadata": {},
   "outputs": [
    {
     "name": "stdout",
     "output_type": "stream",
     "text": [
      "Wrote rating_dict to: sgd_05_linear.tsv\n"
     ]
    }
   ],
   "source": [
    "#Write new ratings to file.\n",
    "b.write_rating_dict(\"sgd_05_linear.tsv\")"
   ]
  },
  {
   "cell_type": "code",
   "execution_count": 9,
   "metadata": {},
   "outputs": [],
   "source": [
    "b.write_error(\"error.csv\")"
   ]
  }
 ],
 "metadata": {
  "kernelspec": {
   "display_name": "Python 3",
   "language": "python",
   "name": "python3"
  },
  "language_info": {
   "codemirror_mode": {
    "name": "ipython",
    "version": 3
   },
   "file_extension": ".py",
   "mimetype": "text/x-python",
   "name": "python",
   "nbconvert_exporter": "python",
   "pygments_lexer": "ipython3",
   "version": "3.6.4"
  }
 },
 "nbformat": 4,
 "nbformat_minor": 2
}
